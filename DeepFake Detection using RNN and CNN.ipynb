{
 "cells": [
  {
   "cell_type": "markdown",
   "metadata": {
    "id": "Q6tasuafvT2O"
   },
   "source": [
    "# Deep Fake Detection using RNN and CNN"
   ]
  },
  {
   "cell_type": "code",
   "execution_count": null,
   "metadata": {
    "execution": {
     "iopub.execute_input": "2024-11-16T17:12:02.561816Z",
     "iopub.status.busy": "2024-11-16T17:12:02.56128Z",
     "iopub.status.idle": "2024-11-16T17:12:03.607204Z",
     "shell.execute_reply": "2024-11-16T17:12:03.605987Z",
     "shell.execute_reply.started": "2024-11-16T17:12:02.561778Z"
    },
    "trusted": true
   },
   "outputs": [],
   "source": [
    "tf.test.is_gpu_available()\n",
    "strategy = tf.distribute.MirroredStrategy()\n",
    "print('DEVICES AVAILABLE: {}'.format(strategy.num_replicas_in_sync))"
   ]
  },
  {
   "cell_type": "code",
   "execution_count": null,
   "metadata": {
    "execution": {
     "iopub.execute_input": "2024-11-16T17:12:03.608946Z",
     "iopub.status.busy": "2024-11-16T17:12:03.608593Z",
     "iopub.status.idle": "2024-11-16T17:12:03.617974Z",
     "shell.execute_reply": "2024-11-16T17:12:03.61674Z",
     "shell.execute_reply.started": "2024-11-16T17:12:03.608907Z"
    },
    "trusted": true
   },
   "outputs": [],
   "source": [
    "tf.__version__"
   ]
  },
  {
   "cell_type": "code",
   "execution_count": null,
   "metadata": {
    "execution": {
     "iopub.execute_input": "2024-11-16T17:12:03.62152Z",
     "iopub.status.busy": "2024-11-16T17:12:03.621057Z",
     "iopub.status.idle": "2024-11-16T17:12:03.628174Z",
     "shell.execute_reply": "2024-11-16T17:12:03.626977Z",
     "shell.execute_reply.started": "2024-11-16T17:12:03.621472Z"
    },
    "id": "8d4TH3NbpKzx",
    "trusted": true
   },
   "outputs": [],
   "source": [
    "import matplotlib.pyplot as plt\n",
    "\n",
    "plt.rc('font', size=14)\n",
    "plt.rc('axes', labelsize=14, titlesize=14)\n",
    "plt.rc('legend', fontsize=14)\n",
    "plt.rc('xtick', labelsize=10)\n",
    "plt.rc('ytick', labelsize=10)"
   ]
  },
  {
   "cell_type": "code",
   "execution_count": null,
   "metadata": {
    "execution": {
     "iopub.execute_input": "2024-11-16T17:12:03.629988Z",
     "iopub.status.busy": "2024-11-16T17:12:03.629635Z",
     "iopub.status.idle": "2024-11-16T17:12:03.639244Z",
     "shell.execute_reply": "2024-11-16T17:12:03.638374Z",
     "shell.execute_reply.started": "2024-11-16T17:12:03.629952Z"
    },
    "id": "jfv9PxSB4tM8",
    "trusted": true
   },
   "outputs": [],
   "source": [
    "import os\n",
    "\n",
    "def get_data():\n",
    "    return pd.read_csv('../input/deepfake-faces/metadata.csv')"
   ]
  },
  {
   "cell_type": "code",
   "execution_count": null,
   "metadata": {
    "execution": {
     "iopub.execute_input": "2024-11-16T17:12:03.64077Z",
     "iopub.status.busy": "2024-11-16T17:12:03.640442Z",
     "iopub.status.idle": "2024-11-16T17:12:03.822705Z",
     "shell.execute_reply": "2024-11-16T17:12:03.821538Z",
     "shell.execute_reply.started": "2024-11-16T17:12:03.640739Z"
    },
    "id": "tDW7BRph9ehF",
    "outputId": "97de18b5-0a37-4302-8804-8a16a7d2ed2f",
    "trusted": true
   },
   "outputs": [],
   "source": [
    "meta=get_data()\n",
    "meta.head()"
   ]
  },
  {
   "cell_type": "code",
   "execution_count": null,
   "metadata": {
    "execution": {
     "iopub.execute_input": "2024-11-16T17:12:03.824487Z",
     "iopub.status.busy": "2024-11-16T17:12:03.824035Z",
     "iopub.status.idle": "2024-11-16T17:12:03.83143Z",
     "shell.execute_reply": "2024-11-16T17:12:03.830361Z",
     "shell.execute_reply.started": "2024-11-16T17:12:03.824439Z"
    },
    "id": "n7FSdDifbZxn",
    "outputId": "5451a127-405a-4c0b-a197-c920b796adbb",
    "trusted": true
   },
   "outputs": [],
   "source": [
    "meta.shape"
   ]
  },
  {
   "cell_type": "code",
   "execution_count": null,
   "metadata": {
    "execution": {
     "iopub.execute_input": "2024-11-16T17:12:08.037294Z",
     "iopub.status.busy": "2024-11-16T17:12:08.036644Z",
     "iopub.status.idle": "2024-11-16T17:12:08.085129Z",
     "shell.execute_reply": "2024-11-16T17:12:08.084247Z",
     "shell.execute_reply.started": "2024-11-16T17:12:08.037252Z"
    },
    "id": "_FJcz2IthxVG",
    "outputId": "274c3f65-7acb-4f99-8aa9-a5b2a23bf06a",
    "trusted": true
   },
   "outputs": [],
   "source": [
    "len(meta[meta.label=='FAKE']),len(meta[meta.label=='REAL'])"
   ]
  },
  {
   "cell_type": "code",
   "execution_count": null,
   "metadata": {
    "execution": {
     "iopub.execute_input": "2024-11-16T17:12:11.308287Z",
     "iopub.status.busy": "2024-11-16T17:12:11.307675Z",
     "iopub.status.idle": "2024-11-16T17:12:11.361952Z",
     "shell.execute_reply": "2024-11-16T17:12:11.361208Z",
     "shell.execute_reply.started": "2024-11-16T17:12:11.308246Z"
    },
    "id": "IgMfzY-PjjtH",
    "trusted": true
   },
   "outputs": [],
   "source": [
    "real_df = meta[meta[\"label\"] == \"REAL\"]\n",
    "fake_df = meta[meta[\"label\"] == \"FAKE\"]\n",
    "sample_size = 15000\n",
    "fake_df = fake_df.sample(sample_size, random_state=42)\n",
    "sample_meta = pd.concat([real_df, fake_df])"
   ]
  },
  {
   "cell_type": "code",
   "execution_count": null,
   "metadata": {
    "execution": {
     "iopub.execute_input": "2024-11-16T17:12:12.91868Z",
     "iopub.status.busy": "2024-11-16T17:12:12.918297Z",
     "iopub.status.idle": "2024-11-16T17:12:13.097802Z",
     "shell.execute_reply": "2024-11-16T17:12:13.097025Z",
     "shell.execute_reply.started": "2024-11-16T17:12:12.918641Z"
    },
    "id": "5eB86S6K-T5Z",
    "trusted": true
   },
   "outputs": [],
   "source": [
    "from sklearn.model_selection import train_test_split\n",
    "\n",
    "Train_set, Test_set = train_test_split(sample_meta,test_size=0.2,random_state=42,stratify=sample_meta['label'])\n",
    "Train_set, Val_set  = train_test_split(Train_set,test_size=0.15,random_state=42,stratify=Train_set['label'])"
   ]
  },
  {
   "cell_type": "code",
   "execution_count": null,
   "metadata": {
    "execution": {
     "iopub.execute_input": "2024-11-16T17:12:15.299039Z",
     "iopub.status.busy": "2024-11-16T17:12:15.298667Z",
     "iopub.status.idle": "2024-11-16T17:12:15.305656Z",
     "shell.execute_reply": "2024-11-16T17:12:15.304586Z",
     "shell.execute_reply.started": "2024-11-16T17:12:15.299003Z"
    },
    "id": "8p-TONijb4qA",
    "outputId": "56d0b529-9d81-4019-d8fa-618c8cdba90f",
    "trusted": true
   },
   "outputs": [],
   "source": [
    "Train_set.shape,Val_set.shape,Test_set.shape"
   ]
  },
  {
   "cell_type": "code",
   "execution_count": null,
   "metadata": {
    "execution": {
     "iopub.execute_input": "2024-11-16T17:12:18.264285Z",
     "iopub.status.busy": "2024-11-16T17:12:18.263896Z",
     "iopub.status.idle": "2024-11-16T17:12:19.61996Z",
     "shell.execute_reply": "2024-11-16T17:12:19.619124Z",
     "shell.execute_reply.started": "2024-11-16T17:12:18.264247Z"
    },
    "id": "hzNGtCWd-mTk",
    "outputId": "5178c3ed-cbba-4f99-99d0-26bde11a5dab",
    "trusted": true
   },
   "outputs": [],
   "source": [
    "y = dict()\n",
    "\n",
    "y[0] = []\n",
    "y[1] = []\n",
    "\n",
    "for set_name in (np.array(Train_set['label']), np.array(Val_set['label']), np.array(Test_set['label'])):\n",
    "    y[0].append(np.sum(set_name == 'REAL'))\n",
    "    y[1].append(np.sum(set_name == 'FAKE'))\n",
    "\n",
    "trace0 = go.Bar(\n",
    "    x=['Train Set', 'Validation Set', 'Test Set'],\n",
    "    y=y[0],\n",
    "    name='REAL',\n",
    "    marker=dict(color='#33cc33'),\n",
    "    opacity=0.7\n",
    ")\n",
    "trace1 = go.Bar(\n",
    "    x=['Train Set', 'Validation Set', 'Test Set'],\n",
    "    y=y[1],\n",
    "    name='FAKE',\n",
    "    marker=dict(color='#ff3300'),\n",
    "    opacity=0.7\n",
    ")\n",
    "\n",
    "data = [trace0, trace1]\n",
    "layout = go.Layout(\n",
    "    title='Count of classes in each set',\n",
    "    xaxis={'title': 'Set'},\n",
    "    yaxis={'title': 'Count'}\n",
    ")\n",
    "\n",
    "fig = go.Figure(data, layout)\n",
    "iplot(fig)"
   ]
  },
  {
   "cell_type": "code",
   "execution_count": null,
   "metadata": {
    "execution": {
     "iopub.execute_input": "2024-11-16T17:12:25.293542Z",
     "iopub.status.busy": "2024-11-16T17:12:25.292808Z",
     "iopub.status.idle": "2024-11-16T17:12:27.406257Z",
     "shell.execute_reply": "2024-11-16T17:12:27.405057Z",
     "shell.execute_reply.started": "2024-11-16T17:12:25.293498Z"
    },
    "id": "VR7Uly2fcUYi",
    "outputId": "c1f47a82-ef4f-4bcd-b51c-d4738142fc0f",
    "trusted": true
   },
   "outputs": [],
   "source": [
    "plt.figure(figsize=(15,15))\n",
    "for cur,i in enumerate(Train_set.index[25:50]):\n",
    "    plt.subplot(5,5,cur+1)\n",
    "    plt.xticks([])\n",
    "    plt.yticks([])\n",
    "    plt.grid(False)\n",
    "    \n",
    "    plt.imshow(cv2.imread('../input/deepfake-faces/faces_224/'+Train_set.loc[i,'videoname'][:-4]+'.jpg'))\n",
    "    \n",
    "    if(Train_set.loc[i,'label']=='FAKE'):\n",
    "        plt.xlabel('FAKE Image')\n",
    "    else:\n",
    "        plt.xlabel('REAL Image')\n",
    "        \n",
    "plt.show()"
   ]
  },
  {
   "cell_type": "code",
   "execution_count": null,
   "metadata": {
    "execution": {
     "iopub.execute_input": "2024-11-16T17:13:45.625233Z",
     "iopub.status.busy": "2024-11-16T17:13:45.624404Z",
     "iopub.status.idle": "2024-11-16T17:13:45.631341Z",
     "shell.execute_reply": "2024-11-16T17:13:45.630347Z",
     "shell.execute_reply.started": "2024-11-16T17:13:45.625174Z"
    },
    "id": "Hz0ZdQ_fgHhG",
    "trusted": true
   },
   "outputs": [],
   "source": [
    "def retreive_dataset(set_name):\n",
    "    images,labels=[],[]\n",
    "    for (img, imclass) in zip(set_name['videoname'], set_name['label']):\n",
    "        images.append(cv2.imread('../input/deepfake-faces/faces_224/'+img[:-4]+'.jpg'))\n",
    "        if(imclass=='FAKE'):\n",
    "            labels.append(1)\n",
    "        else:\n",
    "            labels.append(0)\n",
    "    \n",
    "    return np.array(images),np.array(labels)"
   ]
  },
  {
   "cell_type": "code",
   "execution_count": null,
   "metadata": {
    "execution": {
     "iopub.execute_input": "2024-11-16T17:13:46.113601Z",
     "iopub.status.busy": "2024-11-16T17:13:46.113256Z",
     "iopub.status.idle": "2024-11-16T17:18:00.645945Z",
     "shell.execute_reply": "2024-11-16T17:18:00.644727Z",
     "shell.execute_reply.started": "2024-11-16T17:13:46.113567Z"
    },
    "id": "zeAGRcAbguKU",
    "trusted": true
   },
   "outputs": [],
   "source": [
    "X_train,y_train=retreive_dataset(Train_set)\n",
    "X_val,y_val=retreive_dataset(Val_set)\n",
    "X_test,y_test=retreive_dataset(Test_set)"
   ]
  },
  {
   "cell_type": "markdown",
   "metadata": {},
   "source": [
    "using Xception model for fine-tuning "
   ]
  },
  {
   "cell_type": "code",
   "execution_count": null,
   "metadata": {
    "execution": {
     "iopub.execute_input": "2024-11-16T17:18:10.804737Z",
     "iopub.status.busy": "2024-11-16T17:18:10.804429Z",
     "iopub.status.idle": "2024-11-16T17:18:21.188054Z",
     "shell.execute_reply": "2024-11-16T17:18:21.187264Z",
     "shell.execute_reply.started": "2024-11-16T17:18:10.804705Z"
    },
    "trusted": true
   },
   "outputs": [],
   "source": [
    "train_set_raw=tf.data.Dataset.from_tensor_slices((X_train,y_train))\n",
    "valid_set_raw=tf.data.Dataset.from_tensor_slices((X_val,y_val))\n",
    "test_set_raw=tf.data.Dataset.from_tensor_slices((X_test,y_test))"
   ]
  },
  {
   "cell_type": "code",
   "execution_count": null,
   "metadata": {
    "execution": {
     "iopub.execute_input": "2024-11-16T17:18:21.190324Z",
     "iopub.status.busy": "2024-11-16T17:18:21.190003Z",
     "iopub.status.idle": "2024-11-16T17:18:22.989794Z",
     "shell.execute_reply": "2024-11-16T17:18:22.989017Z",
     "shell.execute_reply.started": "2024-11-16T17:18:21.19029Z"
    },
    "id": "Bnz0n9XApKz9",
    "trusted": true
   },
   "outputs": [],
   "source": [
    "tf.keras.backend.clear_session()  # extra code – resets layer name counter\n",
    "\n",
    "batch_size_per_replica = 32\n",
    "batch_size = batch_size_per_replica\n",
    "preprocess = tf.keras.applications.xception.preprocess_input\n",
    "train_set = train_set_raw.map(lambda X, y: (preprocess(tf.cast(X, tf.float32)), y))\n",
    "train_set = train_set.shuffle(1000, seed=42).batch(batch_size).prefetch(1)\n",
    "valid_set = valid_set_raw.map(lambda X, y: (preprocess(tf.cast(X, tf.float32)), y)).batch(batch_size)\n",
    "test_set = test_set_raw.map(lambda X, y: (preprocess(tf.cast(X, tf.float32)), y)).batch(batch_size)"
   ]
  },
  {
   "cell_type": "code",
   "execution_count": null,
   "metadata": {
    "execution": {
     "iopub.execute_input": "2024-11-16T17:18:22.991136Z",
     "iopub.status.busy": "2024-11-16T17:18:22.990827Z",
     "iopub.status.idle": "2024-11-16T17:18:24.39996Z",
     "shell.execute_reply": "2024-11-16T17:18:24.399093Z",
     "shell.execute_reply.started": "2024-11-16T17:18:22.991089Z"
    },
    "id": "ZL3c3i4opKz9",
    "outputId": "38847d8d-8822-41a3-cfb2-27479aa5debe",
    "trusted": true
   },
   "outputs": [],
   "source": [
    "# extra code – displays the first 9 images in the first batch of valid_set\n",
    "\n",
    "plt.figure(figsize=(12, 12))\n",
    "for X_batch, y_batch in valid_set.take(1):\n",
    "    for index in range(9):\n",
    "        plt.subplot(3, 3, index + 1)\n",
    "        plt.imshow((X_batch[index] + 1) / 2)  # rescale to 0–1 for imshow()\n",
    "        if(y_batch[index]==1):\n",
    "            classt='FAKE'\n",
    "        else:\n",
    "            classt='REAL'\n",
    "        plt.title(f\"Class: {classt}\")\n",
    "        plt.axis(\"off\")\n",
    "\n",
    "plt.show()"
   ]
  },
  {
   "cell_type": "code",
   "execution_count": null,
   "metadata": {
    "execution": {
     "iopub.execute_input": "2024-11-16T17:18:24.401492Z",
     "iopub.status.busy": "2024-11-16T17:18:24.401184Z",
     "iopub.status.idle": "2024-11-16T17:18:24.418972Z",
     "shell.execute_reply": "2024-11-16T17:18:24.418053Z",
     "shell.execute_reply.started": "2024-11-16T17:18:24.401458Z"
    },
    "id": "Ib0cA8Y1pKz9",
    "trusted": true
   },
   "outputs": [],
   "source": [
    "data_augmentation = tf.keras.Sequential([\n",
    "    tf.keras.layers.RandomFlip(mode=\"horizontal\", seed=42),\n",
    "    tf.keras.layers.RandomRotation(factor=0.05, seed=42),\n",
    "    tf.keras.layers.RandomContrast(factor=0.2, seed=42)\n",
    "])"
   ]
  },
  {
   "cell_type": "code",
   "execution_count": null,
   "metadata": {
    "execution": {
     "iopub.execute_input": "2024-11-16T17:18:24.420979Z",
     "iopub.status.busy": "2024-11-16T17:18:24.420347Z",
     "iopub.status.idle": "2024-11-16T17:18:27.126683Z",
     "shell.execute_reply": "2024-11-16T17:18:27.125722Z",
     "shell.execute_reply.started": "2024-11-16T17:18:24.420933Z"
    },
    "id": "w6GH5_vupKz-",
    "outputId": "eeb2c924-2f4f-4aa1-bea9-951bebef4bf0",
    "trusted": true
   },
   "outputs": [],
   "source": [
    "# extra code – displays the same first 9 images, after augmentation\n",
    "\n",
    "plt.figure(figsize=(12, 12))\n",
    "for X_batch, y_batch in valid_set.take(1):\n",
    "    X_batch_augmented = data_augmentation(X_batch, training=True)\n",
    "    for index in range(9):\n",
    "        plt.subplot(3, 3, index + 1)\n",
    "        # We must rescale the images to the 0-1 range for imshow(), and also\n",
    "        # clip the result to that range, because data augmentation may\n",
    "        # make some values go out of bounds (e.g., RandomContrast in this case).\n",
    "        plt.imshow(np.clip((X_batch_augmented[index] + 1) / 2, 0, 1))\n",
    "        if(y_batch[index]==1):\n",
    "            classt='FAKE'\n",
    "        else:\n",
    "            classt='REAL'\n",
    "        plt.title(f\"Class: {classt}\")\n",
    "        plt.axis(\"off\")\n",
    "\n",
    "plt.show()"
   ]
  },
  {
   "cell_type": "code",
   "execution_count": null,
   "metadata": {
    "execution": {
     "iopub.execute_input": "2024-11-16T17:18:27.128858Z",
     "iopub.status.busy": "2024-11-16T17:18:27.128477Z",
     "iopub.status.idle": "2024-11-16T17:18:28.783438Z",
     "shell.execute_reply": "2024-11-16T17:18:28.782629Z",
     "shell.execute_reply.started": "2024-11-16T17:18:27.12879Z"
    },
    "id": "lRyCgvaKpKz-",
    "outputId": "a825e173-8b1d-4217-a1c4-5491b49c3e82",
    "trusted": true
   },
   "outputs": [],
   "source": [
    "tf.random.set_seed(42)  # extra code – ensures reproducibility\n",
    "base_model = tf.keras.applications.xception.Xception(weights=\"imagenet\",\n",
    "                                                     include_top=False)\n",
    "avg = tf.keras.layers.GlobalAveragePooling2D()(base_model.output)\n",
    "output = tf.keras.layers.Dense(1, activation=\"sigmoid\")(avg)\n",
    "model = tf.keras.Model(inputs=base_model.input, outputs=output)"
   ]
  },
  {
   "cell_type": "markdown",
   "metadata": {},
   "source": [
    "**After Fine tuning The accuracy comes about ~64%**"
   ]
  },
  {
   "cell_type": "code",
   "execution_count": null,
   "metadata": {
    "execution": {
     "iopub.execute_input": "2024-11-16T17:18:28.784919Z",
     "iopub.status.busy": "2024-11-16T17:18:28.784594Z",
     "iopub.status.idle": "2024-11-16T18:07:18.611674Z",
     "shell.execute_reply": "2024-11-16T18:07:18.610819Z",
     "shell.execute_reply.started": "2024-11-16T17:18:28.784875Z"
    },
    "id": "GEUNGlhvpKz_",
    "outputId": "c622a91d-f634-4443-b87e-8d46defdb578",
    "trusted": true
   },
   "outputs": [],
   "source": [
    "for layer in base_model.layers[56:]:\n",
    "    layer.trainable = True\n",
    "\n",
    "optimizer = tf.keras.optimizers.SGD(learning_rate=0.01, momentum=0.9)\n",
    "model.compile(loss=\"binary_crossentropy\", optimizer=optimizer,\n",
    "              metrics=[\"accuracy\"])\n",
    "history = model.fit(train_set, validation_data=valid_set, epochs=10)"
   ]
  },
  {
   "cell_type": "code",
   "execution_count": null,
   "metadata": {
    "execution": {
     "iopub.execute_input": "2024-11-16T18:07:18.624074Z",
     "iopub.status.busy": "2024-11-16T18:07:18.623742Z",
     "iopub.status.idle": "2024-11-16T18:07:19.237595Z",
     "shell.execute_reply": "2024-11-16T18:07:19.236647Z",
     "shell.execute_reply.started": "2024-11-16T18:07:18.624022Z"
    },
    "trusted": true
   },
   "outputs": [],
   "source": [
    "# plot model performance\n",
    "acc = history.history['accuracy']\n",
    "val_acc = history.history['val_accuracy']\n",
    "loss = history.history['loss']\n",
    "val_loss = history.history['val_loss']\n",
    "epochs_range = range(1, len(history.epoch) + 1)\n",
    "\n",
    "plt.figure(figsize=(15,5))\n",
    "\n",
    "plt.subplot(1, 2, 1)\n",
    "plt.plot(epochs_range, acc, label='Train Set')\n",
    "plt.plot(epochs_range, val_acc, label='Val Set')\n",
    "plt.legend(loc=\"best\")\n",
    "plt.xlabel('Epochs')\n",
    "plt.ylabel('Accuracy')\n",
    "plt.title('Model Accuracy')\n",
    "\n",
    "plt.subplot(1, 2, 2)\n",
    "plt.plot(epochs_range, loss, label='Train Set')\n",
    "plt.plot(epochs_range, val_loss, label='Val Set')\n",
    "plt.legend(loc=\"best\")\n",
    "plt.xlabel('Epochs')\n",
    "plt.ylabel('Loss')\n",
    "plt.title('Model Loss')\n",
    "\n",
    "plt.tight_layout()\n",
    "plt.show()"
   ]
  },
  {
   "cell_type": "code",
   "execution_count": null,
   "metadata": {
    "execution": {
     "iopub.execute_input": "2024-11-16T18:07:19.239135Z",
     "iopub.status.busy": "2024-11-16T18:07:19.2388Z",
     "iopub.status.idle": "2024-11-16T18:07:47.43282Z",
     "shell.execute_reply": "2024-11-16T18:07:47.431886Z",
     "shell.execute_reply.started": "2024-11-16T18:07:19.239074Z"
    },
    "trusted": true
   },
   "outputs": [],
   "source": [
    "model.evaluate(test_set)"
   ]
  }
 ],
 "metadata": {
  "kaggle": {
   "accelerator": "nvidiaTeslaT4",
   "dataSources": [
    {
     "databundleVersionId": 858837,
     "sourceId": 16880,
     "sourceType": "competition"
    },
    {
     "datasetId": 464091,
     "sourceId": 924245,
     "sourceType": "datasetVersion"
    }
   ],
   "isGpuEnabled": true,
   "isInternetEnabled": true,
   "language": "python",
   "sourceType": "notebook"
  },
  "kernelspec": {
   "display_name": "Python 3",
   "language": "python",
   "name": "python3"
  },
  "language_info": {
   "codemirror_mode": {
    "name": "ipython",
    "version": 3
   },
   "file_extension": ".py",
   "mimetype": "text/x-python",
   "name": "python",
   "nbconvert_exporter": "python",
   "pygments_lexer": "ipython3",
   "version": "3.10.14"
  }
 },
 "nbformat": 4,
 "nbformat_minor": 4
}
